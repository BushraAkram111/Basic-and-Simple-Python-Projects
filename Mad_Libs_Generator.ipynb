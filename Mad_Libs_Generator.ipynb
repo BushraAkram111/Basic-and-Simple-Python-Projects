{
  "nbformat": 4,
  "nbformat_minor": 0,
  "metadata": {
    "colab": {
      "provenance": []
    },
    "kernelspec": {
      "name": "python3",
      "display_name": "Python 3"
    },
    "language_info": {
      "name": "python"
    }
  },
  "cells": [
    {
      "cell_type": "code",
      "execution_count": 3,
      "metadata": {
        "colab": {
          "base_uri": "https://localhost:8080/"
        },
        "id": "N5DkgLjhYFDF",
        "outputId": "11001748-bcce-4853-b398-382eb6a7b819"
      },
      "outputs": [
        {
          "output_type": "stream",
          "name": "stdout",
          "text": [
            "Welcome to the Mad Libs game!\n",
            "Please provide the following words as prompted.\n",
            "\n",
            "Enter an adjective (e.g., happy, sad, bright): bright\n",
            "Enter a noun (e.g., cat, house, tree): cat\n",
            "Enter a verb (e.g., run, jump, sing): run\n",
            "Enter a place (e.g., park, beach, city): beach\n",
            "Enter another adjective (e.g., funny, tall, colorful): tall\n",
            "Enter another noun (e.g., dog, car, river): dog\n",
            "Enter another verb (e.g., dance, eat, sleep): eat\n",
            "Enter yet another adjective (e.g., scary, tiny, loud): loud\n",
            "Enter yet another noun (e.g., monster, building, cloud): building\n",
            "Enter yet another verb (e.g., chase, hug, scare): hug\n",
            "Enter an adverb (e.g., quickly, happily, quietly): happily\n",
            "\n",
            "Here is your Mad Libs story:\n",
            "\n",
            "Once upon a time, in a faraway land, there lived a bright cat. This cat loved to run every day. One day, while runing in the beach, the cat met a tall dog. They decided to eat together. Suddenly, a loud building appeared and hug them both. In the end, the cat and the dog became best friends and lived happily ever after.\n"
          ]
        }
      ],
      "source": [
        "def mad_libs():\n",
        "    # Define the story template\n",
        "    story_template = (\n",
        "        \"Once upon a time, in a faraway land, there lived a {adjective1} {noun1}. \"\n",
        "        \"This {noun1} loved to {verb1} every day. One day, while {verb1}ing in the {place1}, \"\n",
        "        \"the {noun1} met a {adjective2} {noun2}. They decided to {verb2} together. \"\n",
        "        \"Suddenly, a {adjective3} {noun3} appeared and {verb3} them both. \"\n",
        "        \"In the end, the {noun1} and the {noun2} became best friends and lived {adverb} ever after.\"\n",
        "    )\n",
        "\n",
        "    # Prompt the user to input words with clear instructions\n",
        "    print(\"Welcome to the Mad Libs game!\")\n",
        "    print(\"Please provide the following words as prompted.\\n\")\n",
        "\n",
        "    adjective1 = input(\"Enter an adjective (e.g., happy, sad, bright): \")\n",
        "    noun1 = input(\"Enter a noun (e.g., cat, house, tree): \")\n",
        "    verb1 = input(\"Enter a verb (e.g., run, jump, sing): \")\n",
        "    place1 = input(\"Enter a place (e.g., park, beach, city): \")\n",
        "    adjective2 = input(\"Enter another adjective (e.g., funny, tall, colorful): \")\n",
        "    noun2 = input(\"Enter another noun (e.g., dog, car, river): \")\n",
        "    verb2 = input(\"Enter another verb (e.g., dance, eat, sleep): \")\n",
        "    adjective3 = input(\"Enter yet another adjective (e.g., scary, tiny, loud): \")\n",
        "    noun3 = input(\"Enter yet another noun (e.g., monster, building, cloud): \")\n",
        "    verb3 = input(\"Enter yet another verb (e.g., chase, hug, scare): \")\n",
        "    adverb = input(\"Enter an adverb (e.g., quickly, happily, quietly): \")\n",
        "\n",
        "    # Fill in the story template with user inputs\n",
        "    story = story_template.format(\n",
        "        adjective1=adjective1, noun1=noun1, verb1=verb1, place1=place1,\n",
        "        adjective2=adjective2, noun2=noun2, verb2=verb2,\n",
        "        adjective3=adjective3, noun3=noun3, verb3=verb3, adverb=adverb\n",
        "    )\n",
        "\n",
        "    # Display the completed story\n",
        "    print(\"\\nHere is your Mad Libs story:\\n\")\n",
        "    print(story)\n",
        "\n",
        "# Run the Mad Libs game\n",
        "if __name__ == \"__main__\":\n",
        "    mad_libs()\n"
      ]
    }
  ]
}